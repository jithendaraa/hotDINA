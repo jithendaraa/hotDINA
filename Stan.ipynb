{
 "cells": [
  {
   "cell_type": "code",
   "execution_count": 12,
   "metadata": {},
   "outputs": [],
   "source": [
    "import numpy as np\n",
    "import pystan\n",
    "import arviz"
   ]
  },
  {
   "cell_type": "code",
   "execution_count": 293,
   "metadata": {},
   "outputs": [],
   "source": [
    "K = 22\n",
    "MAXSKILLS = 4\n",
    "\n",
    "with open('Y.npy', 'rb') as f:\n",
    "    obsY = np.load(f).astype(int)\n",
    "    \n",
    "with open('idxY.npy', 'rb') as f:\n",
    "    idxY = np.load(f).astype(int)\n",
    "    \n",
    "with open('T.npy', 'rb') as f:\n",
    "    T = np.load(f)\n",
    "\n",
    "I = T.shape[0]\n",
    "T = np.array(T.tolist())\n",
    "max_T = max(T)"
   ]
  },
  {
   "cell_type": "code",
   "execution_count": 295,
   "metadata": {},
   "outputs": [
    {
     "data": {
      "text/plain": [
       "(1, 100, 22)"
      ]
     },
     "execution_count": 295,
     "metadata": {},
     "output_type": "execute_result"
    }
   ],
   "source": [
    "obsData = (np.ones((I, max_T, K))).astype(int)\n",
    "for i in range(I):\n",
    "    for t in range(max_T):\n",
    "        for s in range(MAXSKILLS):\n",
    "            idx = int(idxY[i][t][s]) - 1\n",
    "            if idx >= K:\n",
    "                continue\n",
    "            obsData[i][t][idx] = 1\n",
    "obsData = obsData.astype(int)\n",
    "obsData.shape"
   ]
  },
  {
   "cell_type": "code",
   "execution_count": 314,
   "metadata": {},
   "outputs": [],
   "source": [
    "stan_model = \"\"\"\n",
    "data {\n",
    "    int I;                          // Num. students\n",
    "    int K;                          // Num. skills\n",
    "    int max_T;                      // largest number in T\n",
    "    int T[I];                       // #opportunities for each of the I students\n",
    "    int MAXSKILLS;\n",
    "    int idxY[I,max_T,MAXSKILLS];\n",
    "    int y[I,max_T,K];               // output\n",
    "}\n",
    "parameters {\n",
    "    vector[I] theta;\n",
    "    vector<lower = 0, upper = 2.5>[K] lambda0;\n",
    "    vector[K] lambda1;\n",
    "    vector<lower = 0, upper = 1>[K] learn;\n",
    "    vector<lower = 0, upper = 0.5>[K] g;\n",
    "    vector<lower = 0.5, upper = 1>[K] ss;\n",
    "}\n",
    "transformed parameters {}\n",
    "model {\n",
    "    \n",
    "    int alpha[I, K];\n",
    "    int value;\n",
    "    \n",
    "    theta ~ normal(0, 1);\n",
    "    lambda0 ~ uniform(0.0, 2.5);\n",
    "    lambda1 ~ normal(0, 1);\n",
    "    learn ~ beta(1, 1);\n",
    "    ss ~ uniform(0.5, 1.0);\n",
    "    g ~ uniform(0.0, 0.5);\n",
    "    \n",
    "    for (i in 1:I){\n",
    "        for (t in 1:T[i]){\n",
    "            for (k in 1:K){\n",
    "                value ~ bernoulli(inv_logit(1.7 * lambda1[k] * (theta[i] - lambda0[k])));\n",
    "                y[i, t, k] ~ bernoulli(value);\n",
    "            }\n",
    "        }\n",
    "    }\n",
    "}\n",
    "generated quantities {}\n",
    "\"\"\""
   ]
  },
  {
   "cell_type": "code",
   "execution_count": 315,
   "metadata": {
    "scrolled": true
   },
   "outputs": [
    {
     "ename": "ValueError",
     "evalue": "Failed to parse Stan model 'hotDINA_b86349597476f4c417c33becd35f532b'. Error message:\nSYNTAX ERROR, MESSAGE(S) FROM PARSER:\nNo matches for: \n\n  real ~ bernoulli(real)\n\nAvailable argument signatures for bernoulli:\n\n  int ~ bernoulli(real)\n  int ~ bernoulli(real[ ])\n  int ~ bernoulli(vector)\n  int ~ bernoulli(row_vector)\n  int[ ] ~ bernoulli(real)\n  int[ ] ~ bernoulli(real[ ])\n  int[ ] ~ bernoulli(vector)\n  int[ ] ~ bernoulli(row_vector)\n\nReal return type required for probability function.\n error in 'unknown file name' at line 36, column 89\n  -------------------------------------------------\n    34:             for (k in 1:K){\n    35:                 //alpha[i, k] ~ \n    36:                 value ~ bernoulli(inv_logit(1.7 * lambda1[k] * (theta[i] - lambda0[k])));\n                                                                                                ^\n    37:                 y[i, t, k] ~ bernoulli(value);\n  -------------------------------------------------\n\n",
     "output_type": "error",
     "traceback": [
      "\u001b[1;31m---------------------------------------------------------------------------\u001b[0m",
      "\u001b[1;31mValueError\u001b[0m                                Traceback (most recent call last)",
      "\u001b[1;32m<ipython-input-315-f883796e939c>\u001b[0m in \u001b[0;36m<module>\u001b[1;34m\u001b[0m\n\u001b[1;32m----> 1\u001b[1;33m \u001b[0mhotDINA\u001b[0m \u001b[1;33m=\u001b[0m \u001b[0mpystan\u001b[0m\u001b[1;33m.\u001b[0m\u001b[0mmodel\u001b[0m\u001b[1;33m.\u001b[0m\u001b[0mStanModel\u001b[0m\u001b[1;33m(\u001b[0m\u001b[0mmodel_code\u001b[0m\u001b[1;33m=\u001b[0m\u001b[0mstan_model\u001b[0m\u001b[1;33m,\u001b[0m \u001b[0mmodel_name\u001b[0m\u001b[1;33m=\u001b[0m\u001b[1;34m\"hotDINA\"\u001b[0m\u001b[1;33m)\u001b[0m\u001b[1;33m\u001b[0m\u001b[1;33m\u001b[0m\u001b[0m\n\u001b[0m",
      "\u001b[1;32mD:\\anaconda3\\envs\\stanenv\\lib\\site-packages\\pystan\\model.py\u001b[0m in \u001b[0;36m__init__\u001b[1;34m(self, file, charset, model_name, model_code, stanc_ret, include_paths, boost_lib, eigen_lib, verbose, obfuscate_model_name, extra_compile_args)\u001b[0m\n\u001b[0;32m    221\u001b[0m                                          \u001b[0mverbose\u001b[0m\u001b[1;33m=\u001b[0m\u001b[0mverbose\u001b[0m\u001b[1;33m,\u001b[0m\u001b[1;33m\u001b[0m\u001b[1;33m\u001b[0m\u001b[0m\n\u001b[0;32m    222\u001b[0m                                          \u001b[0minclude_paths\u001b[0m\u001b[1;33m=\u001b[0m\u001b[0minclude_paths\u001b[0m\u001b[1;33m,\u001b[0m\u001b[1;33m\u001b[0m\u001b[1;33m\u001b[0m\u001b[0m\n\u001b[1;32m--> 223\u001b[1;33m                                          obfuscate_model_name=obfuscate_model_name)\n\u001b[0m\u001b[0;32m    224\u001b[0m \u001b[1;33m\u001b[0m\u001b[0m\n\u001b[0;32m    225\u001b[0m         \u001b[1;32mif\u001b[0m \u001b[1;32mnot\u001b[0m \u001b[0misinstance\u001b[0m\u001b[1;33m(\u001b[0m\u001b[0mstanc_ret\u001b[0m\u001b[1;33m,\u001b[0m \u001b[0mdict\u001b[0m\u001b[1;33m)\u001b[0m\u001b[1;33m:\u001b[0m\u001b[1;33m\u001b[0m\u001b[1;33m\u001b[0m\u001b[0m\n",
      "\u001b[1;32mD:\\anaconda3\\envs\\stanenv\\lib\\site-packages\\pystan\\api.py\u001b[0m in \u001b[0;36mstanc\u001b[1;34m(file, charset, model_code, model_name, include_paths, verbose, obfuscate_model_name)\u001b[0m\n\u001b[0;32m    165\u001b[0m             \u001b[0mmsg\u001b[0m \u001b[1;33m=\u001b[0m \u001b[0mmsg\u001b[0m\u001b[1;33m.\u001b[0m\u001b[0mencode\u001b[0m\u001b[1;33m(\u001b[0m\u001b[1;34m'ascii'\u001b[0m\u001b[1;33m,\u001b[0m \u001b[1;34m'replace'\u001b[0m\u001b[1;33m)\u001b[0m\u001b[1;33m\u001b[0m\u001b[1;33m\u001b[0m\u001b[0m\n\u001b[0;32m    166\u001b[0m         \u001b[0merror_msg\u001b[0m \u001b[1;33m=\u001b[0m \u001b[1;34m\"Failed to parse Stan model '{}'. Error message:\\n{}\"\u001b[0m\u001b[1;33m.\u001b[0m\u001b[0mformat\u001b[0m\u001b[1;33m(\u001b[0m\u001b[0mmodel_name\u001b[0m\u001b[1;33m,\u001b[0m \u001b[0mmsg\u001b[0m\u001b[1;33m)\u001b[0m\u001b[1;33m\u001b[0m\u001b[1;33m\u001b[0m\u001b[0m\n\u001b[1;32m--> 167\u001b[1;33m         \u001b[1;32mraise\u001b[0m \u001b[0mValueError\u001b[0m\u001b[1;33m(\u001b[0m\u001b[0merror_msg\u001b[0m\u001b[1;33m)\u001b[0m\u001b[1;33m\u001b[0m\u001b[1;33m\u001b[0m\u001b[0m\n\u001b[0m\u001b[0;32m    168\u001b[0m     \u001b[1;32melif\u001b[0m \u001b[0mresult\u001b[0m\u001b[1;33m[\u001b[0m\u001b[1;34m'status'\u001b[0m\u001b[1;33m]\u001b[0m \u001b[1;33m==\u001b[0m \u001b[1;36m0\u001b[0m\u001b[1;33m:\u001b[0m  \u001b[1;31m# SUCCESS_RC is 0\u001b[0m\u001b[1;33m\u001b[0m\u001b[1;33m\u001b[0m\u001b[0m\n\u001b[0;32m    169\u001b[0m         \u001b[0mlogger\u001b[0m\u001b[1;33m.\u001b[0m\u001b[0mdebug\u001b[0m\u001b[1;33m(\u001b[0m\u001b[1;34m\"Successfully parsed Stan model '{}'.\"\u001b[0m\u001b[1;33m.\u001b[0m\u001b[0mformat\u001b[0m\u001b[1;33m(\u001b[0m\u001b[0mmodel_name\u001b[0m\u001b[1;33m)\u001b[0m\u001b[1;33m)\u001b[0m\u001b[1;33m\u001b[0m\u001b[1;33m\u001b[0m\u001b[0m\n",
      "\u001b[1;31mValueError\u001b[0m: Failed to parse Stan model 'hotDINA_b86349597476f4c417c33becd35f532b'. Error message:\nSYNTAX ERROR, MESSAGE(S) FROM PARSER:\nNo matches for: \n\n  real ~ bernoulli(real)\n\nAvailable argument signatures for bernoulli:\n\n  int ~ bernoulli(real)\n  int ~ bernoulli(real[ ])\n  int ~ bernoulli(vector)\n  int ~ bernoulli(row_vector)\n  int[ ] ~ bernoulli(real)\n  int[ ] ~ bernoulli(real[ ])\n  int[ ] ~ bernoulli(vector)\n  int[ ] ~ bernoulli(row_vector)\n\nReal return type required for probability function.\n error in 'unknown file name' at line 36, column 89\n  -------------------------------------------------\n    34:             for (k in 1:K){\n    35:                 //alpha[i, k] ~ \n    36:                 value ~ bernoulli(inv_logit(1.7 * lambda1[k] * (theta[i] - lambda0[k])));\n                                                                                                ^\n    37:                 y[i, t, k] ~ bernoulli(value);\n  -------------------------------------------------\n\n"
     ]
    }
   ],
   "source": [
    "hotDINA = pystan.model.StanModel(model_code=stan_model, model_name=\"hotDINA\")"
   ]
  },
  {
   "cell_type": "code",
   "execution_count": 313,
   "metadata": {},
   "outputs": [
    {
     "ename": "RuntimeError",
     "evalue": "Initialization failed.",
     "output_type": "error",
     "traceback": [
      "\u001b[1;31m---------------------------------------------------------------------------\u001b[0m",
      "\u001b[1;31mRuntimeError\u001b[0m                              Traceback (most recent call last)",
      "\u001b[1;32m<ipython-input-313-713bd64d9f4f>\u001b[0m in \u001b[0;36m<module>\u001b[1;34m\u001b[0m\n\u001b[0;32m     10\u001b[0m                                \u001b[0mchains\u001b[0m\u001b[1;33m=\u001b[0m\u001b[1;36m4\u001b[0m\u001b[1;33m,\u001b[0m\u001b[1;33m\u001b[0m\u001b[1;33m\u001b[0m\u001b[0m\n\u001b[0;32m     11\u001b[0m                                \u001b[0mwarmup\u001b[0m\u001b[1;33m=\u001b[0m\u001b[1;36m500\u001b[0m\u001b[1;33m,\u001b[0m\u001b[1;33m\u001b[0m\u001b[1;33m\u001b[0m\u001b[0m\n\u001b[1;32m---> 12\u001b[1;33m                                n_jobs=1)\n\u001b[0m",
      "\u001b[1;32mD:\\anaconda3\\envs\\stanenv\\lib\\site-packages\\pystan\\model.py\u001b[0m in \u001b[0;36msampling\u001b[1;34m(self, data, pars, chains, iter, warmup, thin, seed, init, sample_file, diagnostic_file, verbose, algorithm, control, n_jobs, **kwargs)\u001b[0m\n\u001b[0;32m    776\u001b[0m         \u001b[0mcall_sampler_args\u001b[0m \u001b[1;33m=\u001b[0m \u001b[0mizip\u001b[0m\u001b[1;33m(\u001b[0m\u001b[0mitertools\u001b[0m\u001b[1;33m.\u001b[0m\u001b[0mrepeat\u001b[0m\u001b[1;33m(\u001b[0m\u001b[0mdata\u001b[0m\u001b[1;33m)\u001b[0m\u001b[1;33m,\u001b[0m \u001b[0margs_list\u001b[0m\u001b[1;33m,\u001b[0m \u001b[0mitertools\u001b[0m\u001b[1;33m.\u001b[0m\u001b[0mrepeat\u001b[0m\u001b[1;33m(\u001b[0m\u001b[0mpars\u001b[0m\u001b[1;33m)\u001b[0m\u001b[1;33m)\u001b[0m\u001b[1;33m\u001b[0m\u001b[1;33m\u001b[0m\u001b[0m\n\u001b[0;32m    777\u001b[0m         \u001b[0mcall_sampler_star\u001b[0m \u001b[1;33m=\u001b[0m \u001b[0mself\u001b[0m\u001b[1;33m.\u001b[0m\u001b[0mmodule\u001b[0m\u001b[1;33m.\u001b[0m\u001b[0m_call_sampler_star\u001b[0m\u001b[1;33m\u001b[0m\u001b[1;33m\u001b[0m\u001b[0m\n\u001b[1;32m--> 778\u001b[1;33m         \u001b[0mret_and_samples\u001b[0m \u001b[1;33m=\u001b[0m \u001b[0m_map_parallel\u001b[0m\u001b[1;33m(\u001b[0m\u001b[0mcall_sampler_star\u001b[0m\u001b[1;33m,\u001b[0m \u001b[0mcall_sampler_args\u001b[0m\u001b[1;33m,\u001b[0m \u001b[0mn_jobs\u001b[0m\u001b[1;33m)\u001b[0m\u001b[1;33m\u001b[0m\u001b[1;33m\u001b[0m\u001b[0m\n\u001b[0m\u001b[0;32m    779\u001b[0m         \u001b[0msamples\u001b[0m \u001b[1;33m=\u001b[0m \u001b[1;33m[\u001b[0m\u001b[0msmpl\u001b[0m \u001b[1;32mfor\u001b[0m \u001b[0m_\u001b[0m\u001b[1;33m,\u001b[0m \u001b[0msmpl\u001b[0m \u001b[1;32min\u001b[0m \u001b[0mret_and_samples\u001b[0m\u001b[1;33m]\u001b[0m\u001b[1;33m\u001b[0m\u001b[1;33m\u001b[0m\u001b[0m\n\u001b[0;32m    780\u001b[0m \u001b[1;33m\u001b[0m\u001b[0m\n",
      "\u001b[1;32mD:\\anaconda3\\envs\\stanenv\\lib\\site-packages\\pystan\\model.py\u001b[0m in \u001b[0;36m_map_parallel\u001b[1;34m(function, args, n_jobs)\u001b[0m\n\u001b[0;32m     88\u001b[0m             \u001b[0mpool\u001b[0m\u001b[1;33m.\u001b[0m\u001b[0mjoin\u001b[0m\u001b[1;33m(\u001b[0m\u001b[1;33m)\u001b[0m\u001b[1;33m\u001b[0m\u001b[1;33m\u001b[0m\u001b[0m\n\u001b[0;32m     89\u001b[0m     \u001b[1;32melse\u001b[0m\u001b[1;33m:\u001b[0m\u001b[1;33m\u001b[0m\u001b[1;33m\u001b[0m\u001b[0m\n\u001b[1;32m---> 90\u001b[1;33m         \u001b[0mmap_result\u001b[0m \u001b[1;33m=\u001b[0m \u001b[0mlist\u001b[0m\u001b[1;33m(\u001b[0m\u001b[0mmap\u001b[0m\u001b[1;33m(\u001b[0m\u001b[0mfunction\u001b[0m\u001b[1;33m,\u001b[0m \u001b[0margs\u001b[0m\u001b[1;33m)\u001b[0m\u001b[1;33m)\u001b[0m\u001b[1;33m\u001b[0m\u001b[1;33m\u001b[0m\u001b[0m\n\u001b[0m\u001b[0;32m     91\u001b[0m     \u001b[1;32mreturn\u001b[0m \u001b[0mmap_result\u001b[0m\u001b[1;33m\u001b[0m\u001b[1;33m\u001b[0m\u001b[0m\n\u001b[0;32m     92\u001b[0m \u001b[1;33m\u001b[0m\u001b[0m\n",
      "\u001b[1;32mstanfit4hotDINA_aad6ce9e4a624080067dcab8c087b994_3147727431481275029.pyx\u001b[0m in \u001b[0;36mstanfit4hotDINA_aad6ce9e4a624080067dcab8c087b994_3147727431481275029._call_sampler_star\u001b[1;34m()\u001b[0m\n",
      "\u001b[1;32mstanfit4hotDINA_aad6ce9e4a624080067dcab8c087b994_3147727431481275029.pyx\u001b[0m in \u001b[0;36mstanfit4hotDINA_aad6ce9e4a624080067dcab8c087b994_3147727431481275029._call_sampler\u001b[1;34m()\u001b[0m\n",
      "\u001b[1;31mRuntimeError\u001b[0m: Initialization failed."
     ]
    }
   ],
   "source": [
    "hotDINA_fit = hotDINA.sampling(data={'I': I,\n",
    "                                     'K': 22,\n",
    "                                     'max_T': max_T,\n",
    "                                     'T': T,\n",
    "                                     'MAXSKILLS': 4,\n",
    "                                     'idxY': idxY,\n",
    "                                     'y': obsData\n",
    "                                     },\n",
    "                               iter=1000,\n",
    "                               chains=4, \n",
    "                               warmup=500, \n",
    "                               n_jobs=1)"
   ]
  },
  {
   "cell_type": "code",
   "execution_count": 151,
   "metadata": {},
   "outputs": [
    {
     "data": {
      "text/plain": [
       "(3, 367, 22)"
      ]
     },
     "execution_count": 151,
     "metadata": {},
     "output_type": "execute_result"
    }
   ],
   "source": [
    "obsData.shape"
   ]
  },
  {
   "cell_type": "code",
   "execution_count": 309,
   "metadata": {},
   "outputs": [
    {
     "name": "stderr",
     "output_type": "stream",
     "text": [
      "WARNING:pystan:Deprecation warning. In future, use ArviZ library (`pip install arviz`)\n"
     ]
    },
    {
     "data": {
      "image/png": "[encoded data removed]",
      "text/plain": [
       "<Figure size 432x288 with 12 Axes>"
      ]
     },
     "metadata": {
      "needs_background": "light"
     },
     "output_type": "display_data"
    }
   ],
   "source": [
    "p = hotDINA_fit.plot()"
   ]
  },
  {
   "cell_type": "code",
   "execution_count": 310,
   "metadata": {},
   "outputs": [
    {
     "name": "stdout",
     "output_type": "stream",
     "text": [
      "Inference for Stan model: hotDINA_b4cd469f555eb3bee64b240d79e08c43.\n",
      "4 chains, each with iter=1000; warmup=500; thin=1; \n",
      "post-warmup draws per chain=500, total post-warmup draws=2000.\n",
      "\n",
      "              mean se_mean     sd   2.5%    25%    50%    75%  97.5%  n_eff   Rhat\n",
      "theta[1]     -1.11    1.79   2.57  -4.58  -3.63  -0.42   1.42   1.55      2   6.68\n",
      "lambda0[1]    1.85    0.39   0.74   0.15   1.32   2.24   2.42   2.49      4    1.5\n",
      "lambda0[2]    1.31    0.56   0.92   0.02   0.32   1.37   2.29   2.49      3   1.92\n",
      "lambda0[3]    0.75    0.42   0.77 9.8e-3   0.13   0.37   1.33   2.38      3   1.53\n",
      "lambda0[4]    0.77    0.42   0.76   0.01   0.14   0.39   1.39   2.36      3   1.59\n",
      "lambda0[5]    0.76    0.42   0.76   0.01   0.13   0.41   1.33    2.4      3   1.57\n",
      "lambda0[6]     1.3    0.56   0.92   0.02   0.31   1.35    2.3   2.49      3   1.93\n",
      "lambda0[7]    0.76    0.42   0.78   0.01   0.14   0.38   1.36    2.4      3   1.53\n",
      "lambda0[8]    1.31    0.56   0.93   0.03   0.31    1.4   2.29   2.49      3   1.86\n",
      "lambda0[9]    0.76    0.42   0.79   0.02   0.14   0.36    1.4   2.41      4    1.5\n",
      "lambda0[10]   1.31    0.57   0.93   0.02    0.3   1.36    2.3   2.49      3   1.95\n",
      "lambda0[11]   0.77    0.43   0.78 9.1e-3   0.13   0.39   1.42   2.39      3   1.57\n",
      "lambda0[12]   0.74    0.41   0.75   0.01   0.14   0.37   1.31   2.37      3   1.55\n",
      "lambda0[13]   1.86    0.38   0.71   0.21   1.39   2.24   2.42   2.49      3   1.52\n",
      "lambda0[14]   1.32    0.56   0.93   0.02   0.31    1.4    2.3   2.49      3   1.89\n",
      "lambda0[15]   1.87    0.38   0.71   0.22   1.41   2.25   2.42   2.49      4    1.5\n",
      "lambda0[16]   1.87    0.38   0.73   0.13   1.43   2.25   2.42    2.5      4   1.47\n",
      "lambda0[17]   0.76    0.42   0.77   0.01   0.14   0.37   1.35   2.39      3   1.54\n",
      "lambda0[18]   1.31    0.56   0.93   0.02   0.29   1.37   2.28   2.48      3   1.91\n",
      "lambda0[19]   1.32    0.56   0.93   0.03   0.32   1.37    2.3   2.49      3    1.9\n",
      "lambda0[20]   0.77    0.43   0.76   0.01   0.15   0.39   1.36   2.37      3   1.59\n",
      "lambda0[21]   0.77    0.42   0.76   0.01   0.14   0.38   1.38   2.37      3   1.59\n",
      "lambda0[22]   1.32    0.56   0.92   0.03    0.3   1.42   2.29   2.48      3   1.93\n",
      "lambda1[1]   -1.94    0.54    0.9  -3.61  -2.62  -2.02  -1.08  -0.56      3   1.84\n",
      "lambda1[2]   -0.71    1.32   1.93  -3.42  -2.17  -1.17   0.55   2.99      2   3.88\n",
      "lambda1[3]    0.56    1.27   1.86  -2.28  -1.11   0.35   2.28   3.29      2   3.86\n",
      "lambda1[4]    0.56    1.27   1.85  -2.18  -1.15   0.37   2.31   3.22      2   4.01\n",
      "lambda1[5]    0.56    1.28   1.88  -2.26  -1.14   0.36   2.32   3.36      2   3.77\n",
      "lambda1[6]    -0.7    1.31    1.9   -3.3  -2.15   -1.1   0.53   2.92      2   4.08\n",
      "lambda1[7]    0.59    1.26   1.84  -2.11  -1.07   0.36   2.33   3.25      2   3.92\n",
      "lambda1[8]   -0.69    1.32   1.92  -3.45  -2.12  -1.11   0.49    3.0      2   3.91\n",
      "lambda1[9]    0.56    1.27   1.86  -2.21  -1.12   0.39   2.28   3.25      2   3.88\n",
      "lambda1[10]  -0.68    1.32   1.92  -3.35  -2.07  -1.09   0.55    3.0      2   4.11\n",
      "lambda1[11]   0.56    1.27   1.85  -2.15  -1.14   0.44   2.29   3.21      2   3.91\n",
      "lambda1[12]   0.59    1.26   1.83  -2.09  -1.08   0.45   2.31   3.28      2   3.91\n",
      "lambda1[13]  -1.95    0.54    0.9  -3.58  -2.65  -2.02  -1.11  -0.55      3   1.83\n",
      "lambda1[14]  -0.68    1.32   1.93  -3.28  -2.13  -1.12   0.48   3.12      2   4.03\n",
      "lambda1[15]  -1.95    0.53   0.89   -3.6  -2.67  -2.02  -1.13  -0.56      3   1.82\n",
      "lambda1[16]  -1.94    0.54    0.9  -3.59  -2.64  -2.01  -1.11  -0.54      3   1.86\n",
      "lambda1[17]   0.59    1.28   1.86   -2.2   -1.1   0.44    2.3   3.36      2   3.83\n",
      "lambda1[18]  -0.69    1.33   1.93  -3.39  -2.12  -1.12   0.57   3.02      2   4.15\n",
      "lambda1[19]  -0.69    1.32   1.93  -3.39  -2.12  -1.09   0.56   2.99      2   3.96\n",
      "lambda1[20]   0.58    1.29   1.88  -2.24  -1.11   0.44   2.35   3.32      2   3.83\n",
      "lambda1[21]   0.55    1.27   1.86  -2.27  -1.13   0.39    2.3   3.22      2   3.97\n",
      "lambda1[22]  -0.71    1.32   1.92  -3.39  -2.12  -1.15   0.53   2.92      2   4.06\n",
      "learn[1]       0.5  4.5e-3   0.28   0.03   0.26    0.5   0.74   0.97   3872    1.0\n",
      "learn[2]      0.49  4.9e-3   0.29   0.02   0.23   0.49   0.75   0.98   3490    1.0\n",
      "learn[3]       0.5  4.7e-3   0.29   0.02   0.25    0.5   0.75   0.98   3747    1.0\n",
      "learn[4]       0.5  4.6e-3   0.28   0.03   0.25   0.49   0.73   0.97   3744    1.0\n",
      "learn[5]      0.51  5.1e-3   0.29   0.03   0.25   0.52   0.76   0.97   3260    1.0\n",
      "learn[6]       0.5  4.7e-3   0.28   0.04   0.27    0.5   0.73   0.97   3451    1.0\n",
      "learn[7]      0.51  5.5e-3   0.29   0.03   0.26   0.53   0.77   0.98   2777    1.0\n",
      "learn[8]      0.51  4.7e-3   0.29   0.02   0.27    0.5   0.75   0.98   3886    1.0\n",
      "learn[9]       0.5  4.7e-3   0.28   0.03   0.26    0.5   0.74   0.97   3632    1.0\n",
      "learn[10]      0.5  4.6e-3   0.29   0.03   0.25    0.5   0.75   0.98   3881    1.0\n",
      "learn[11]      0.5  4.4e-3   0.29   0.02   0.24   0.49   0.75   0.98   4417    1.0\n",
      "learn[12]     0.51  4.8e-3   0.29   0.03   0.25   0.51   0.76   0.97   3693    1.0\n",
      "learn[13]      0.5  4.9e-3   0.29   0.02   0.26    0.5   0.75   0.97   3493    1.0\n",
      "learn[14]      0.5  4.4e-3   0.28   0.03   0.25    0.5   0.75   0.97   4213    1.0\n",
      "learn[15]      0.5  5.1e-3   0.29   0.02   0.26    0.5   0.75   0.98   3173    1.0\n",
      "learn[16]     0.51  4.3e-3   0.28   0.04   0.27   0.51   0.74   0.96   4162    1.0\n",
      "learn[17]     0.51  4.5e-3   0.29   0.03   0.25    0.5   0.76   0.98   4181    1.0\n",
      "learn[18]     0.49  4.9e-3   0.29   0.02   0.24   0.49   0.75   0.97   3592    1.0\n",
      "learn[19]      0.5  5.0e-3    0.3   0.02   0.24    0.5   0.76   0.98   3594    1.0\n",
      "learn[20]     0.51  4.6e-3    0.3   0.02   0.23   0.51   0.78   0.98   4250    1.0\n",
      "learn[21]      0.5  4.3e-3   0.29   0.02   0.24   0.49   0.75   0.97   4607    1.0\n",
      "learn[22]     0.51  4.5e-3   0.29   0.03   0.26   0.51   0.76   0.97   4130    1.0\n",
      "g[1]          0.25  2.4e-3   0.15   0.01   0.11   0.25   0.38   0.49   4009    1.0\n",
      "g[2]          0.25  2.4e-3   0.15   0.01   0.12   0.25   0.38   0.49   3888    1.0\n",
      "g[3]          0.25  2.5e-3   0.14 9.6e-3   0.13   0.25   0.37   0.49   3422    1.0\n",
      "g[4]          0.25  2.3e-3   0.14   0.01   0.13   0.25   0.38   0.49   3862    1.0\n",
      "g[5]          0.24  2.5e-3   0.15   0.01   0.11   0.24   0.37   0.49   3356    1.0\n",
      "g[6]          0.25  2.1e-3   0.14   0.01   0.13   0.24   0.36   0.49   4483    1.0\n",
      "g[7]          0.25  2.5e-3   0.15 9.9e-3   0.12   0.25   0.38   0.49   3625    1.0\n",
      "g[8]          0.25  2.4e-3   0.15   0.01   0.12   0.25   0.37   0.49   3557    1.0\n",
      "g[9]          0.25  2.3e-3   0.14   0.01   0.12   0.24   0.36   0.48   3803    1.0\n",
      "g[10]         0.25  2.5e-3   0.14   0.02   0.13   0.25   0.37   0.49   3311    1.0\n",
      "g[11]         0.25  2.3e-3   0.15   0.01   0.12   0.25   0.38   0.49   3921    1.0\n",
      "g[12]         0.25  2.2e-3   0.14   0.02   0.13   0.25   0.37   0.49   4137    1.0\n",
      "g[13]         0.25  2.3e-3   0.15   0.01   0.12   0.25   0.37   0.49   3983    1.0\n",
      "g[14]         0.25  2.4e-3   0.15   0.01   0.13   0.25   0.38   0.49   3715    1.0\n",
      "g[15]         0.25  2.2e-3   0.15   0.01   0.12   0.25   0.38   0.49   4580    1.0\n",
      "g[16]         0.25  2.5e-3   0.15   0.01   0.12   0.25   0.38   0.49   3397    1.0\n",
      "g[17]         0.25  3.0e-3   0.15   0.01   0.13   0.25   0.37   0.49   2366    1.0\n",
      "g[18]         0.25  2.8e-3   0.15   0.01   0.12   0.25   0.38   0.49   2799    1.0\n",
      "g[19]         0.25  2.4e-3   0.14   0.01   0.13   0.25   0.36   0.48   3247    1.0\n",
      "g[20]         0.25  2.2e-3   0.14   0.01   0.12   0.25   0.37   0.49   4436    1.0\n",
      "g[21]         0.25  2.3e-3   0.14   0.01   0.13   0.25   0.38   0.48   3722    1.0\n",
      "g[22]         0.25  2.2e-3   0.14   0.01   0.13   0.24   0.37   0.49   4161    1.0\n",
      "ss[1]         0.75  2.3e-3   0.14   0.52   0.62   0.75   0.87   0.98   3830    1.0\n",
      "ss[2]         0.75  2.2e-3   0.14   0.51   0.63   0.75   0.88   0.99   4252    1.0\n",
      "ss[3]         0.75  2.3e-3   0.14   0.51   0.63   0.75   0.88   0.99   3956    1.0\n",
      "ss[4]         0.75  2.7e-3   0.15   0.51   0.62   0.75   0.88   0.99   3127    1.0\n",
      "ss[5]         0.75  2.3e-3   0.15   0.51   0.63   0.76   0.88   0.98   4009    1.0\n",
      "ss[6]         0.75  2.6e-3   0.15   0.51   0.62   0.75   0.88   0.99   3305    1.0\n",
      "ss[7]         0.75  2.1e-3   0.15   0.51   0.61   0.75   0.88   0.99   5083    1.0\n",
      "ss[8]         0.75  2.5e-3   0.15   0.51   0.62   0.75   0.88   0.99   3342    1.0\n",
      "ss[9]         0.75  2.5e-3   0.14   0.51   0.63   0.75   0.87   0.99   3401    1.0\n",
      "ss[10]        0.75  2.6e-3   0.14   0.52   0.63   0.75   0.87   0.98   2875    1.0\n",
      "ss[11]        0.75  2.3e-3   0.15   0.51   0.62   0.75   0.87   0.99   4134    1.0\n",
      "ss[12]        0.76  2.4e-3   0.14   0.51   0.63   0.76   0.88   0.99   3538    1.0\n",
      "ss[13]        0.75  2.1e-3   0.15   0.51   0.62   0.75   0.88   0.99   4771    1.0\n",
      "ss[14]        0.75  2.2e-3   0.14   0.51   0.63   0.74   0.87   0.99   4076    1.0\n",
      "ss[15]        0.75  2.4e-3   0.14   0.52   0.63   0.75   0.87   0.99   3550    1.0\n",
      "ss[16]        0.75  2.2e-3   0.15   0.51   0.62   0.76   0.88   0.99   4372    1.0\n",
      "ss[17]        0.75  2.4e-3   0.14   0.51   0.62   0.75   0.87   0.99   3693    1.0\n",
      "ss[18]        0.75  2.3e-3   0.14   0.52   0.63   0.76   0.87   0.98   3757    1.0\n",
      "ss[19]        0.75  2.4e-3   0.15   0.51   0.62   0.74   0.88   0.99   3712    1.0\n",
      "ss[20]        0.75  2.2e-3   0.14   0.51   0.62   0.75   0.87   0.99   4095    1.0\n",
      "ss[21]        0.75  2.4e-3   0.14   0.52   0.63   0.75   0.87   0.98   3593    1.0\n",
      "ss[22]        0.75  2.4e-3   0.15   0.51   0.62   0.75   0.88   0.99   3869    1.0\n",
      "lp__        -265.6   35.73  51.21 -332.2 -315.4 -277.0 -214.9 -201.8      2    6.1\n",
      "\n",
      "Samples were drawn using NUTS at Wed Jul 22 14:37:04 2020.\n",
      "For each parameter, n_eff is a crude measure of effective sample size,\n",
      "and Rhat is the potential scale reduction factor on split chains (at \n",
      "convergence, Rhat=1).\n"
     ]
    }
   ],
   "source": [
    "print(hotDINA_fit)"
   ]
  },
  {
   "cell_type": "code",
   "execution_count": null,
   "metadata": {},
   "outputs": [],
   "source": []
  },
  {
   "cell_type": "code",
   "execution_count": null,
   "metadata": {},
   "outputs": [],
   "source": []
  },
  {
   "cell_type": "code",
   "execution_count": null,
   "metadata": {},
   "outputs": [],
   "source": []
  },
  {
   "cell_type": "code",
   "execution_count": null,
   "metadata": {},
   "outputs": [],
   "source": []
  },
  {
   "cell_type": "code",
   "execution_count": null,
   "metadata": {},
   "outputs": [],
   "source": []
  },
  {
   "cell_type": "markdown",
   "metadata": {},
   "source": [
    "max_T"
   ]
  },
  {
   "cell_type": "code",
   "execution_count": 98,
   "metadata": {},
   "outputs": [
    {
     "data": {
      "text/plain": [
       "367"
      ]
     },
     "execution_count": 98,
     "metadata": {},
     "output_type": "execute_result"
    }
   ],
   "source": [
    "max_T"
   ]
  },
  {
   "cell_type": "code",
   "execution_count": null,
   "metadata": {},
   "outputs": [],
   "source": []
  },
  {
   "cell_type": "code",
   "execution_count": null,
   "metadata": {},
   "outputs": [],
   "source": []
  },
  {
   "cell_type": "code",
   "execution_count": null,
   "metadata": {},
   "outputs": [],
   "source": []
  },
  {
   "cell_type": "code",
   "execution_count": 104,
   "metadata": {},
   "outputs": [
    {
     "data": {
      "text/plain": [
       "(3, 367, 4)"
      ]
     },
     "execution_count": 104,
     "metadata": {},
     "output_type": "execute_result"
    }
   ],
   "source": [
    "obsY.shape"
   ]
  },
  {
   "cell_type": "code",
   "execution_count": 11,
   "metadata": {},
   "outputs": [],
   "source": [
    "stan_model = \"\"\"\n",
    "data {\n",
    "    \n",
    "    int I;       // Num. students\n",
    "    int K;       // Num. skills\n",
    "    int max_T;   // largest number in T\n",
    "    int T[I]; // #opportunities for each of the I students\n",
    "    int MAXSKILLS;\n",
    "    \n",
    "    // int idxY[I,max_T,MAXSKILLS];\n",
    "    \n",
    "    int y[I,max_T];   // output\n",
    "    \n",
    "}\n",
    "parameters {\n",
    "    // Priors\n",
    "    vector[I] theta;\n",
    "    vector<lower = 0, upper = 2.5>[K] lambda0;\n",
    "    vector[K] lambda1;\n",
    "    vector<lower = 0, upper = 1>[K] learn;\n",
    "    vector<lower = 0, upper = 0.5>[K] g;\n",
    "    vector<lower = 0.5, upper = 1>[K] ss;\n",
    "}\n",
    "transformed parameters {}\n",
    "model {\n",
    "    \n",
    "    int alpha[I,max_T];\n",
    "    real value;\n",
    "    int idx;\n",
    "    real py[I, max_T];\n",
    "    \n",
    "    theta ~ normal(0, 1);\n",
    "    lambda0 ~ uniform(0.0, 2.5);\n",
    "    lambda1 ~ normal(0, 1);\n",
    "    learn ~ beta(1, 1);\n",
    "    ss ~ uniform(0.5, 1.0);\n",
    "    g ~ uniform(0.0, 0.5);\n",
    "    \n",
    "    for (i in 1:I){\n",
    "        // t = 1\n",
    "        value = inv_logit(1.7 * lambda1[i] * (theta[i] - lambda0[i]));\n",
    "        alpha[i, 1] ~ bernoulli(value);\n",
    "        py[i, 1] = pow(ss[i], alpha[i,1]) * pow(g[i], (1-alpha[i,1]));\n",
    "        \n",
    "        for (t in 1:T[i]){\n",
    "            y[i,t] ~ bernoulli(py[i, 1]);\n",
    "        }\n",
    "    }\n",
    "}\n",
    "generated quantities {}\n",
    "\"\"\""
   ]
  },
  {
   "cell_type": "code",
   "execution_count": 12,
   "metadata": {},
   "outputs": [
    {
     "name": "stderr",
     "output_type": "stream",
     "text": [
      "INFO:pystan:COMPILING THE C++ CODE FOR MODEL hotDINA_cfb91dd7eaa9f8b761b2b94f8f9d8cf3 NOW.\n"
     ]
    }
   ],
   "source": [
    "hotDINA = pystan.model.StanModel(model_code=stan_model, model_name=\"hotDINA\")"
   ]
  },
  {
   "cell_type": "code",
   "execution_count": 9,
   "metadata": {},
   "outputs": [],
   "source": [
    "y = np.ones((I, max_T)).astype(int)"
   ]
  },
  {
   "cell_type": "code",
   "execution_count": 10,
   "metadata": {},
   "outputs": [
    {
     "ename": "RuntimeError",
     "evalue": "Exception: mismatch in number dimensions declared and found in context; processing stage=data initialization; variable name=y; dims declared=(3,367,4); dims found=(3,367)  (in 'unknown file name' at line 12)\n",
     "output_type": "error",
     "traceback": [
      "\u001b[1;31m---------------------------------------------------------------------------\u001b[0m",
      "\u001b[1;31mRuntimeError\u001b[0m                              Traceback (most recent call last)",
      "\u001b[1;32m<ipython-input-10-96adf3a19a89>\u001b[0m in \u001b[0;36m<module>\u001b[1;34m\u001b[0m\n\u001b[0;32m      8\u001b[0m                                      },\n\u001b[0;32m      9\u001b[0m                                \u001b[0miter\u001b[0m\u001b[1;33m=\u001b[0m\u001b[1;36m1000\u001b[0m\u001b[1;33m,\u001b[0m\u001b[1;33m\u001b[0m\u001b[1;33m\u001b[0m\u001b[0m\n\u001b[1;32m---> 10\u001b[1;33m                                warmup=500)\n\u001b[0m",
      "\u001b[1;32mD:\\anaconda3\\envs\\stanenv\\lib\\site-packages\\pystan\\model.py\u001b[0m in \u001b[0;36msampling\u001b[1;34m(self, data, pars, chains, iter, warmup, thin, seed, init, sample_file, diagnostic_file, verbose, algorithm, control, n_jobs, **kwargs)\u001b[0m\n\u001b[0;32m    721\u001b[0m \u001b[1;33m\u001b[0m\u001b[0m\n\u001b[0;32m    722\u001b[0m         \u001b[0mseed\u001b[0m \u001b[1;33m=\u001b[0m \u001b[0mpystan\u001b[0m\u001b[1;33m.\u001b[0m\u001b[0mmisc\u001b[0m\u001b[1;33m.\u001b[0m\u001b[0m_check_seed\u001b[0m\u001b[1;33m(\u001b[0m\u001b[0mseed\u001b[0m\u001b[1;33m)\u001b[0m\u001b[1;33m\u001b[0m\u001b[1;33m\u001b[0m\u001b[0m\n\u001b[1;32m--> 723\u001b[1;33m         \u001b[0mfit\u001b[0m \u001b[1;33m=\u001b[0m \u001b[0mself\u001b[0m\u001b[1;33m.\u001b[0m\u001b[0mfit_class\u001b[0m\u001b[1;33m(\u001b[0m\u001b[0mdata\u001b[0m\u001b[1;33m,\u001b[0m \u001b[0mseed\u001b[0m\u001b[1;33m)\u001b[0m\u001b[1;33m\u001b[0m\u001b[1;33m\u001b[0m\u001b[0m\n\u001b[0m\u001b[0;32m    724\u001b[0m \u001b[1;33m\u001b[0m\u001b[0m\n\u001b[0;32m    725\u001b[0m         \u001b[0mm_pars\u001b[0m \u001b[1;33m=\u001b[0m \u001b[0mfit\u001b[0m\u001b[1;33m.\u001b[0m\u001b[0m_get_param_names\u001b[0m\u001b[1;33m(\u001b[0m\u001b[1;33m)\u001b[0m\u001b[1;33m\u001b[0m\u001b[1;33m\u001b[0m\u001b[0m\n",
      "\u001b[1;32mstanfit4hotDINA_ccee90b3101fbb0e6667eef7e9348eef_6541626071051662201.pyx\u001b[0m in \u001b[0;36mstanfit4hotDINA_ccee90b3101fbb0e6667eef7e9348eef_6541626071051662201.StanFit4Model.__cinit__\u001b[1;34m()\u001b[0m\n",
      "\u001b[1;31mRuntimeError\u001b[0m: Exception: mismatch in number dimensions declared and found in context; processing stage=data initialization; variable name=y; dims declared=(3,367,4); dims found=(3,367)  (in 'unknown file name' at line 12)\n"
     ]
    }
   ],
   "source": [
    "hotDINA_fit = hotDINA.sampling(data={'I': 3,\n",
    "                                     'K': 22,\n",
    "                                     'max_T': max_T,\n",
    "                                     'T': T,\n",
    "                                     'MAXSKILLS': 4,\n",
    "                                     'y': y\n",
    "                                     },\n",
    "                               iter=1000, \n",
    "                               warmup=500)"
   ]
  },
  {
   "cell_type": "code",
   "execution_count": null,
   "metadata": {},
   "outputs": [],
   "source": []
  }
 ],
 "metadata": {
  "kernelspec": {
   "display_name": "Python 3",
   "language": "python",
   "name": "python3"
  },
  "language_info": {
   "codemirror_mode": {
    "name": "ipython",
    "version": 3
   },
   "file_extension": ".py",
   "mimetype": "text/x-python",
   "name": "python",
   "nbconvert_exporter": "python",
   "pygments_lexer": "ipython3",
   "version": "3.7.7"
  }
 },
 "nbformat": 4,
 "nbformat_minor": 4
}